{
 "cells": [
  {
   "cell_type": "markdown",
   "metadata": {},
   "source": [
    "# Example 1 - Default Approach\n",
    "\n",
    "This notebook demonstrates how to use the TX2 dashboard with a sequence classification transformer using the default approach as described in the \"Basic Usage\" docs."
   ]
  },
  {
   "cell_type": "code",
   "execution_count": 1,
   "metadata": {
    "execution": {
     "iopub.execute_input": "2022-08-30T15:13:24.725379Z",
     "iopub.status.busy": "2022-08-30T15:13:24.724839Z",
     "iopub.status.idle": "2022-08-30T15:13:25.278822Z",
     "shell.execute_reply": "2022-08-30T15:13:25.277922Z",
     "shell.execute_reply.started": "2022-08-30T15:13:24.725236Z"
    }
   },
   "outputs": [],
   "source": [
    "%cd -q ..\n",
    "%load_ext autoreload\n",
    "%autoreload 2\n",
    "%matplotlib inline"
   ]
  },
  {
   "cell_type": "markdown",
   "metadata": {},
   "source": [
    "We enable logging to view the output from `wrapper.prepare()` further down in the notebook. (It's a long running function, and logs which step it's on.)"
   ]
  },
  {
   "cell_type": "code",
   "execution_count": 2,
   "metadata": {
    "execution": {
     "iopub.execute_input": "2022-08-30T15:13:25.280685Z",
     "iopub.status.busy": "2022-08-30T15:13:25.280083Z",
     "iopub.status.idle": "2022-08-30T15:13:25.290568Z",
     "shell.execute_reply": "2022-08-30T15:13:25.289881Z",
     "shell.execute_reply.started": "2022-08-30T15:13:25.280667Z"
    }
   },
   "outputs": [],
   "source": [
    "import logging\n",
    "\n",
    "logger = logging.getLogger()\n",
    "logger.setLevel(logging.INFO)"
   ]
  },
  {
   "cell_type": "code",
   "execution_count": 3,
   "metadata": {
    "execution": {
     "iopub.execute_input": "2022-08-30T15:13:25.291312Z",
     "iopub.status.busy": "2022-08-30T15:13:25.291184Z",
     "iopub.status.idle": "2022-08-30T15:13:26.153184Z",
     "shell.execute_reply": "2022-08-30T15:13:26.152403Z",
     "shell.execute_reply.started": "2022-08-30T15:13:25.291297Z"
    }
   },
   "outputs": [],
   "source": [
    "import numpy as np\n",
    "import pandas as pd\n",
    "import torch\n",
    "from torch import cuda\n",
    "from torch.utils.data import DataLoader, Dataset\n",
    "from tqdm.notebook import tqdm\n",
    "from transformers import AutoModel, AutoTokenizer, BertTokenizer"
   ]
  },
  {
   "cell_type": "markdown",
   "metadata": {},
   "source": [
    "In this example notebook, we use the 20 newsgroups dataset, which can be downloaded through huggingfacevia below:"
   ]
  },
  {
   "cell_type": "code",
   "execution_count": 4,
   "metadata": {
    "execution": {
     "iopub.execute_input": "2022-08-30T15:13:26.154929Z",
     "iopub.status.busy": "2022-08-30T15:13:26.154663Z",
     "iopub.status.idle": "2022-08-30T15:13:36.278644Z",
     "shell.execute_reply": "2022-08-30T15:13:36.277846Z",
     "shell.execute_reply.started": "2022-08-30T15:13:26.154912Z"
    },
    "pycharm": {
     "name": "#%%\n"
    }
   },
   "outputs": [
    {
     "name": "stderr",
     "output_type": "stream",
     "text": [
      "Using custom data configuration SetFit--20_newsgroups-f9362e018b6adf67\n"
     ]
    },
    {
     "name": "stdout",
     "output_type": "stream",
     "text": [
      "Downloading and preparing dataset json/SetFit--20_newsgroups to /home/81n/.cache/huggingface/datasets/SetFit___json/SetFit--20_newsgroups-f9362e018b6adf67/0.0.0/a3e658c4731e59120d44081ac10bf85dc7e1388126b92338344ce9661907f253...\n"
     ]
    },
    {
     "data": {
      "application/vnd.jupyter.widget-view+json": {
       "model_id": "de977a8db9ef41f5b7fad39ed3950f9c",
       "version_major": 2,
       "version_minor": 0
      },
      "text/plain": [
       "Downloading data files:   0%|          | 0/2 [00:00<?, ?it/s]"
      ]
     },
     "metadata": {},
     "output_type": "display_data"
    },
    {
     "data": {
      "application/vnd.jupyter.widget-view+json": {
       "model_id": "8fedc975eb0f491f8d019a6c79b5e36e",
       "version_major": 2,
       "version_minor": 0
      },
      "text/plain": [
       "Downloading data:   0%|          | 0.00/14.8M [00:00<?, ?B/s]"
      ]
     },
     "metadata": {},
     "output_type": "display_data"
    },
    {
     "data": {
      "application/vnd.jupyter.widget-view+json": {
       "model_id": "09cdd9a1f99045588dedbb6e802afcd8",
       "version_major": 2,
       "version_minor": 0
      },
      "text/plain": [
       "Downloading data:   0%|          | 0.00/8.91M [00:00<?, ?B/s]"
      ]
     },
     "metadata": {},
     "output_type": "display_data"
    },
    {
     "data": {
      "application/vnd.jupyter.widget-view+json": {
       "model_id": "bb1a02be14d94467ac9b16014128d15b",
       "version_major": 2,
       "version_minor": 0
      },
      "text/plain": [
       "Extracting data files:   0%|          | 0/2 [00:00<?, ?it/s]"
      ]
     },
     "metadata": {},
     "output_type": "display_data"
    },
    {
     "data": {
      "application/vnd.jupyter.widget-view+json": {
       "model_id": "",
       "version_major": 2,
       "version_minor": 0
      },
      "text/plain": [
       "0 tables [00:00, ? tables/s]"
      ]
     },
     "metadata": {},
     "output_type": "display_data"
    },
    {
     "data": {
      "application/vnd.jupyter.widget-view+json": {
       "model_id": "",
       "version_major": 2,
       "version_minor": 0
      },
      "text/plain": [
       "0 tables [00:00, ? tables/s]"
      ]
     },
     "metadata": {},
     "output_type": "display_data"
    },
    {
     "name": "stdout",
     "output_type": "stream",
     "text": [
      "Dataset json downloaded and prepared to /home/81n/.cache/huggingface/datasets/SetFit___json/SetFit--20_newsgroups-f9362e018b6adf67/0.0.0/a3e658c4731e59120d44081ac10bf85dc7e1388126b92338344ce9661907f253. Subsequent calls will reuse this data.\n"
     ]
    },
    {
     "name": "stderr",
     "output_type": "stream",
     "text": [
      "Using custom data configuration SetFit--20_newsgroups-f9362e018b6adf67\n",
      "Reusing dataset json (/home/81n/.cache/huggingface/datasets/SetFit___json/SetFit--20_newsgroups-f9362e018b6adf67/0.0.0/a3e658c4731e59120d44081ac10bf85dc7e1388126b92338344ce9661907f253)\n"
     ]
    },
    {
     "data": {
      "text/plain": [
       "'cuda'"
      ]
     },
     "execution_count": 4,
     "metadata": {},
     "output_type": "execute_result"
    }
   ],
   "source": [
    "from datasets import load_dataset\n",
    "\n",
    "# getting newsgroups data from huggingface\n",
    "train_data = pd.DataFrame(data=load_dataset(\"SetFit/20_newsgroups\", split=\"train\"))\n",
    "test_data = pd.DataFrame(data=load_dataset(\"SetFit/20_newsgroups\", split=\"test\"))\n",
    "\n",
    "# setting up pytorch device\n",
    "if cuda.is_available():\n",
    "    device = \"cuda\"\n",
    "elif torch.has_mps:\n",
    "    device = \"mps\"\n",
    "else:\n",
    "    device = \"cpu\"\n",
    "\n",
    "device"
   ]
  },
  {
   "cell_type": "markdown",
   "metadata": {
    "pycharm": {
     "name": "#%%\n"
    }
   },
   "source": [
    "Defined below is a simple sequence classification model with a variable for the language model itself `l1`. Since it is a BERT model, we take the sequence embedding from the `[CLS]` token (via `output_1[0][:, 0, :])`) and pipe that into the linear layer."
   ]
  },
  {
   "cell_type": "code",
   "execution_count": 5,
   "metadata": {
    "execution": {
     "iopub.execute_input": "2022-08-30T15:13:36.279669Z",
     "iopub.status.busy": "2022-08-30T15:13:36.279541Z",
     "iopub.status.idle": "2022-08-30T15:13:41.031598Z",
     "shell.execute_reply": "2022-08-30T15:13:41.030786Z",
     "shell.execute_reply.started": "2022-08-30T15:13:36.279653Z"
    },
    "pycharm": {
     "name": "#%%\n"
    }
   },
   "outputs": [
    {
     "name": "stderr",
     "output_type": "stream",
     "text": [
      "Some weights of the model checkpoint at bert-base-cased were not used when initializing BertModel: ['cls.seq_relationship.bias', 'cls.predictions.decoder.weight', 'cls.predictions.transform.dense.bias', 'cls.predictions.transform.LayerNorm.bias', 'cls.predictions.transform.dense.weight', 'cls.seq_relationship.weight', 'cls.predictions.transform.LayerNorm.weight', 'cls.predictions.bias']\n",
      "- This IS expected if you are initializing BertModel from the checkpoint of a model trained on another task or with another architecture (e.g. initializing a BertForSequenceClassification model from a BertForPreTraining model).\n",
      "- This IS NOT expected if you are initializing BertModel from the checkpoint of a model that you expect to be exactly identical (initializing a BertForSequenceClassification model from a BertForSequenceClassification model).\n"
     ]
    }
   ],
   "source": [
    "class BERTClass(torch.nn.Module):\n",
    "    def __init__(self):\n",
    "        super(BERTClass, self).__init__()\n",
    "        self.l1 = AutoModel.from_pretrained(\"bert-base-cased\")\n",
    "        self.l2 = torch.nn.Linear(768, 20)\n",
    "\n",
    "    def forward(self, ids, mask):\n",
    "        output_1 = self.l1(ids, mask)\n",
    "        output = self.l2(output_1[0][:, 0, :])  # use just the [CLS] output embedding\n",
    "        return output\n",
    "\n",
    "\n",
    "model = BERTClass()\n",
    "model.to(device)\n",
    "tokenizer = AutoTokenizer.from_pretrained(\"bert-base-cased\")"
   ]
  },
  {
   "cell_type": "markdown",
   "metadata": {},
   "source": [
    "Some simplistic data cleaning, and putting all data into dataframes for the wrapper"
   ]
  },
  {
   "cell_type": "code",
   "execution_count": 6,
   "metadata": {
    "execution": {
     "iopub.execute_input": "2022-08-30T15:13:41.032837Z",
     "iopub.status.busy": "2022-08-30T15:13:41.032535Z",
     "iopub.status.idle": "2022-08-30T15:13:41.053083Z",
     "shell.execute_reply": "2022-08-30T15:13:41.052343Z",
     "shell.execute_reply.started": "2022-08-30T15:13:41.032820Z"
    }
   },
   "outputs": [],
   "source": [
    "def clean_text(text):\n",
    "    text = str(text)\n",
    "    # text = text[text.index(\"\\n\\n\") + 2 :]\n",
    "    text = text.replace(\"\\n\", \" \")\n",
    "    text = text.replace(\"    \", \" \")\n",
    "    text = text.replace(\"   \", \" \")\n",
    "    text = text.replace(\"  \", \" \")\n",
    "    text = text.strip()\n",
    "    return text"
   ]
  },
  {
   "cell_type": "code",
   "execution_count": 7,
   "metadata": {
    "execution": {
     "iopub.execute_input": "2022-08-30T15:13:41.054109Z",
     "iopub.status.busy": "2022-08-30T15:13:41.053961Z",
     "iopub.status.idle": "2022-08-30T15:13:41.277002Z",
     "shell.execute_reply": "2022-08-30T15:13:41.276285Z",
     "shell.execute_reply.started": "2022-08-30T15:13:41.054092Z"
    }
   },
   "outputs": [
    {
     "data": {
      "text/html": [
       "<div>\n",
       "<style scoped>\n",
       "    .dataframe tbody tr th:only-of-type {\n",
       "        vertical-align: middle;\n",
       "    }\n",
       "\n",
       "    .dataframe tbody tr th {\n",
       "        vertical-align: top;\n",
       "    }\n",
       "\n",
       "    .dataframe thead th {\n",
       "        text-align: right;\n",
       "    }\n",
       "</style>\n",
       "<table border=\"1\" class=\"dataframe\">\n",
       "  <thead>\n",
       "    <tr style=\"text-align: right;\">\n",
       "      <th></th>\n",
       "      <th>text</th>\n",
       "      <th>label</th>\n",
       "      <th>label_text</th>\n",
       "    </tr>\n",
       "  </thead>\n",
       "  <tbody>\n",
       "    <tr>\n",
       "      <th>0</th>\n",
       "      <td>I was wondering if anyone out there could enli...</td>\n",
       "      <td>7</td>\n",
       "      <td>rec.autos</td>\n",
       "    </tr>\n",
       "    <tr>\n",
       "      <th>1</th>\n",
       "      <td>A fair number of brave souls who upgraded thei...</td>\n",
       "      <td>4</td>\n",
       "      <td>comp.sys.mac.hardware</td>\n",
       "    </tr>\n",
       "    <tr>\n",
       "      <th>2</th>\n",
       "      <td>well folks, my mac plus finally gave up the gh...</td>\n",
       "      <td>4</td>\n",
       "      <td>comp.sys.mac.hardware</td>\n",
       "    </tr>\n",
       "    <tr>\n",
       "      <th>3</th>\n",
       "      <td>Do you have Weitek's address/phone number? I'd...</td>\n",
       "      <td>1</td>\n",
       "      <td>comp.graphics</td>\n",
       "    </tr>\n",
       "    <tr>\n",
       "      <th>4</th>\n",
       "      <td>From article &lt;C5owCB.n3p@world.std.com&gt;, by to...</td>\n",
       "      <td>14</td>\n",
       "      <td>sci.space</td>\n",
       "    </tr>\n",
       "    <tr>\n",
       "      <th>...</th>\n",
       "      <td>...</td>\n",
       "      <td>...</td>\n",
       "      <td>...</td>\n",
       "    </tr>\n",
       "    <tr>\n",
       "      <th>11309</th>\n",
       "      <td>DN&gt; From: nyeda@cnsvax.uwec.edu (David Nye) DN...</td>\n",
       "      <td>13</td>\n",
       "      <td>sci.med</td>\n",
       "    </tr>\n",
       "    <tr>\n",
       "      <th>11310</th>\n",
       "      <td>I have a (very old) Mac 512k and a Mac Plus, b...</td>\n",
       "      <td>4</td>\n",
       "      <td>comp.sys.mac.hardware</td>\n",
       "    </tr>\n",
       "    <tr>\n",
       "      <th>11311</th>\n",
       "      <td>I just installed a DX2-66 CPU in a clone mothe...</td>\n",
       "      <td>3</td>\n",
       "      <td>comp.sys.ibm.pc.hardware</td>\n",
       "    </tr>\n",
       "    <tr>\n",
       "      <th>11312</th>\n",
       "      <td>Wouldn't this require a hyper-sphere. In 3-spa...</td>\n",
       "      <td>1</td>\n",
       "      <td>comp.graphics</td>\n",
       "    </tr>\n",
       "    <tr>\n",
       "      <th>11313</th>\n",
       "      <td>Stolen from Pasadena between 4:30 and 6:30 pm ...</td>\n",
       "      <td>8</td>\n",
       "      <td>rec.motorcycles</td>\n",
       "    </tr>\n",
       "  </tbody>\n",
       "</table>\n",
       "<p>11014 rows × 3 columns</p>\n",
       "</div>"
      ],
      "text/plain": [
       "                                                    text  label  \\\n",
       "0      I was wondering if anyone out there could enli...      7   \n",
       "1      A fair number of brave souls who upgraded thei...      4   \n",
       "2      well folks, my mac plus finally gave up the gh...      4   \n",
       "3      Do you have Weitek's address/phone number? I'd...      1   \n",
       "4      From article <C5owCB.n3p@world.std.com>, by to...     14   \n",
       "...                                                  ...    ...   \n",
       "11309  DN> From: nyeda@cnsvax.uwec.edu (David Nye) DN...     13   \n",
       "11310  I have a (very old) Mac 512k and a Mac Plus, b...      4   \n",
       "11311  I just installed a DX2-66 CPU in a clone mothe...      3   \n",
       "11312  Wouldn't this require a hyper-sphere. In 3-spa...      1   \n",
       "11313  Stolen from Pasadena between 4:30 and 6:30 pm ...      8   \n",
       "\n",
       "                     label_text  \n",
       "0                     rec.autos  \n",
       "1         comp.sys.mac.hardware  \n",
       "2         comp.sys.mac.hardware  \n",
       "3                 comp.graphics  \n",
       "4                     sci.space  \n",
       "...                         ...  \n",
       "11309                   sci.med  \n",
       "11310     comp.sys.mac.hardware  \n",
       "11311  comp.sys.ibm.pc.hardware  \n",
       "11312             comp.graphics  \n",
       "11313           rec.motorcycles  \n",
       "\n",
       "[11014 rows x 3 columns]"
      ]
     },
     "execution_count": 7,
     "metadata": {},
     "output_type": "execute_result"
    }
   ],
   "source": [
    "# clean long white space or extensive character returns\n",
    "train_data.text = train_data.text.apply(lambda x: clean_text(x))\n",
    "test_data.text = test_data.text.apply(lambda x: clean_text(x))\n",
    "\n",
    "# remove empty entries or trivially short ones\n",
    "train_cleaned = train_data[train_data[\"text\"].str.len() > 1]\n",
    "test_cleaned = test_data[test_data[\"text\"].str.len() > 1]\n",
    "train_cleaned"
   ]
  },
  {
   "cell_type": "markdown",
   "metadata": {},
   "source": [
    "## Training\n",
    "\n",
    "This section minimally trains the classification and language model - nothing fancy here, just to give the dashboard demo something to work with. Most of this is similar to the huggingface tutorial notebooks."
   ]
  },
  {
   "cell_type": "code",
   "execution_count": 8,
   "metadata": {
    "execution": {
     "iopub.execute_input": "2022-08-30T15:13:41.277865Z",
     "iopub.status.busy": "2022-08-30T15:13:41.277746Z",
     "iopub.status.idle": "2022-08-30T15:13:41.296298Z",
     "shell.execute_reply": "2022-08-30T15:13:41.295567Z",
     "shell.execute_reply.started": "2022-08-30T15:13:41.277851Z"
    }
   },
   "outputs": [],
   "source": [
    "# Creating the loss function and optimizer\n",
    "loss_function = torch.nn.CrossEntropyLoss()\n",
    "optimizer = torch.optim.Adam(params=model.parameters(), lr=1e-05)"
   ]
  },
  {
   "cell_type": "code",
   "execution_count": 9,
   "metadata": {
    "execution": {
     "iopub.execute_input": "2022-08-30T15:13:41.297480Z",
     "iopub.status.busy": "2022-08-30T15:13:41.297259Z",
     "iopub.status.idle": "2022-08-30T15:13:41.319964Z",
     "shell.execute_reply": "2022-08-30T15:13:41.319078Z",
     "shell.execute_reply.started": "2022-08-30T15:13:41.297463Z"
    }
   },
   "outputs": [
    {
     "name": "stdout",
     "output_type": "stream",
     "text": [
      "11014\n",
      "1000\n"
     ]
    }
   ],
   "source": [
    "class EncodedSet(Dataset):\n",
    "    def __init__(self, dataframe: pd.DataFrame, tokenizer, max_len):\n",
    "        self.len = len(dataframe)\n",
    "        self.data = dataframe\n",
    "        self.tokenizer = tokenizer\n",
    "        self.max_len = max_len\n",
    "        print(self.len)\n",
    "\n",
    "    def __getitem__(self, index):\n",
    "        text = str(self.data.text[index])\n",
    "        inputs = self.tokenizer.encode_plus(\n",
    "            text,\n",
    "            None,\n",
    "            add_special_tokens=True,\n",
    "            max_length=self.max_len,\n",
    "            padding=\"max_length\",\n",
    "            truncation=True,\n",
    "            return_token_type_ids=True,\n",
    "        )\n",
    "        ids = inputs[\"input_ids\"]\n",
    "        mask = inputs[\"attention_mask\"]\n",
    "\n",
    "        return {\n",
    "            \"ids\": torch.tensor(ids, dtype=torch.long),\n",
    "            \"mask\": torch.tensor(mask, dtype=torch.long),\n",
    "            \"targets\": torch.tensor(self.data.label[index], dtype=torch.long),\n",
    "        }\n",
    "\n",
    "    def __len__(self):\n",
    "        return self.len\n",
    "\n",
    "\n",
    "train_cleaned.reset_index(drop=True, inplace=True)\n",
    "test_cleaned.reset_index(drop=True, inplace=True)\n",
    "\n",
    "train_set = EncodedSet(train_cleaned, tokenizer, 256)\n",
    "test_set = EncodedSet(test_cleaned[:1000], tokenizer, 256)\n",
    "\n",
    "train_params = {\"batch_size\": 16, \"shuffle\": True, \"num_workers\": 0}\n",
    "\n",
    "test_params = {\"batch_size\": 2, \"shuffle\": True, \"num_workers\": 0}\n",
    "\n",
    "# put everything into data loaders\n",
    "train_loader = DataLoader(train_set, **train_params)\n",
    "test_loader = DataLoader(test_set, **test_params)"
   ]
  },
  {
   "cell_type": "code",
   "execution_count": 10,
   "metadata": {
    "execution": {
     "iopub.execute_input": "2022-08-30T15:13:41.321978Z",
     "iopub.status.busy": "2022-08-30T15:13:41.321775Z",
     "iopub.status.idle": "2022-08-30T15:13:41.341278Z",
     "shell.execute_reply": "2022-08-30T15:13:41.340572Z",
     "shell.execute_reply.started": "2022-08-30T15:13:41.321964Z"
    }
   },
   "outputs": [],
   "source": [
    "def train(epoch):\n",
    "    model.train()\n",
    "\n",
    "    loss_history = []\n",
    "    for _, data in tqdm(\n",
    "        enumerate(train_loader, start=0), total=len(train_loader), desc=f\"Epoch {epoch}\"\n",
    "    ):\n",
    "        ids = data[\"ids\"].to(device, dtype=torch.long)\n",
    "        mask = data[\"mask\"].to(device, dtype=torch.long)\n",
    "        targets = data[\"targets\"].to(device, dtype=torch.long)\n",
    "\n",
    "        outputs = model(ids, mask).squeeze()\n",
    "\n",
    "        optimizer.zero_grad()\n",
    "        loss = loss_function(outputs, targets)\n",
    "        if _ % 100 == 0:\n",
    "            print(f\"Epoch: {epoch}, Loss:  {loss.item()}\")\n",
    "        loss_history.append(loss.item())\n",
    "\n",
    "        optimizer.zero_grad()\n",
    "        loss.backward()\n",
    "        optimizer.step()\n",
    "    #         torch.cuda.empty_cache()\n",
    "    return loss_history"
   ]
  },
  {
   "cell_type": "code",
   "execution_count": 11,
   "metadata": {
    "execution": {
     "iopub.execute_input": "2022-08-30T15:13:41.342353Z",
     "iopub.status.busy": "2022-08-30T15:13:41.342227Z",
     "iopub.status.idle": "2022-08-30T15:16:42.643551Z",
     "shell.execute_reply": "2022-08-30T15:16:42.642787Z",
     "shell.execute_reply.started": "2022-08-30T15:13:41.342337Z"
    }
   },
   "outputs": [
    {
     "data": {
      "application/vnd.jupyter.widget-view+json": {
       "model_id": "13d303cf03d040c592c8325c0a3ed6f4",
       "version_major": 2,
       "version_minor": 0
      },
      "text/plain": [
       "Epoch 0:   0%|          | 0/689 [00:00<?, ?it/s]"
      ]
     },
     "metadata": {},
     "output_type": "display_data"
    },
    {
     "name": "stdout",
     "output_type": "stream",
     "text": [
      "Epoch: 0, Loss:  3.010342597961426\n",
      "Epoch: 0, Loss:  2.1731438636779785\n",
      "Epoch: 0, Loss:  1.2772483825683594\n",
      "Epoch: 0, Loss:  0.8486295342445374\n",
      "Epoch: 0, Loss:  1.399922251701355\n",
      "Epoch: 0, Loss:  0.8678690791130066\n",
      "Epoch: 0, Loss:  1.619996428489685\n"
     ]
    }
   ],
   "source": [
    "losses = []\n",
    "for epoch in range(1):\n",
    "    losses.extend(train(epoch))"
   ]
  },
  {
   "cell_type": "markdown",
   "metadata": {},
   "source": [
    "The wrapper uses an `encodings` dictionary for various labels/visualizations, and can be set up with something similar to:"
   ]
  },
  {
   "cell_type": "code",
   "execution_count": 12,
   "metadata": {
    "execution": {
     "iopub.execute_input": "2022-08-30T15:16:42.645248Z",
     "iopub.status.busy": "2022-08-30T15:16:42.644576Z",
     "iopub.status.idle": "2022-08-30T15:16:42.673176Z",
     "shell.execute_reply": "2022-08-30T15:16:42.672482Z",
     "shell.execute_reply.started": "2022-08-30T15:16:42.645230Z"
    }
   },
   "outputs": [
    {
     "data": {
      "text/plain": [
       "{'alt.atheism': 0,\n",
       " 'comp.graphics': 1,\n",
       " 'comp.os.ms-windows.misc': 2,\n",
       " 'comp.sys.ibm.pc.hardware': 3,\n",
       " 'comp.sys.mac.hardware': 4,\n",
       " 'comp.windows.x': 5,\n",
       " 'misc.forsale': 6,\n",
       " 'rec.autos': 7,\n",
       " 'rec.motorcycles': 8,\n",
       " 'rec.sport.baseball': 9,\n",
       " 'rec.sport.hockey': 10,\n",
       " 'sci.crypt': 11,\n",
       " 'sci.electronics': 12,\n",
       " 'sci.med': 13,\n",
       " 'sci.space': 14,\n",
       " 'soc.religion.christian': 15,\n",
       " 'talk.politics.guns': 16,\n",
       " 'talk.politics.mideast': 17,\n",
       " 'talk.politics.misc': 18,\n",
       " 'talk.religion.misc': 19}"
      ]
     },
     "execution_count": 12,
     "metadata": {},
     "output_type": "execute_result"
    }
   ],
   "source": [
    "encodings = (\n",
    "    train_cleaned[[\"label\", \"label_text\"]]\n",
    "    .groupby([\"label_text\"])\n",
    "    .apply(lambda x: x[\"label\"].tolist()[0])\n",
    "    .to_dict()\n",
    ")\n",
    "encodings"
   ]
  },
  {
   "cell_type": "markdown",
   "metadata": {},
   "source": [
    "## TX2\n",
    "\n",
    "This section shows how to put everything into the TX2 wrapper to get the dashboard widget displayed."
   ]
  },
  {
   "cell_type": "code",
   "execution_count": 13,
   "metadata": {
    "execution": {
     "iopub.execute_input": "2022-08-30T15:16:42.674036Z",
     "iopub.status.busy": "2022-08-30T15:16:42.673920Z",
     "iopub.status.idle": "2022-08-30T15:16:49.917625Z",
     "shell.execute_reply": "2022-08-30T15:16:49.916619Z",
     "shell.execute_reply.started": "2022-08-30T15:16:42.674022Z"
    },
    "pycharm": {
     "name": "#%%\n"
    }
   },
   "outputs": [],
   "source": [
    "from tx2.dashboard import Dashboard\n",
    "from tx2.wrapper import Wrapper"
   ]
  },
  {
   "cell_type": "code",
   "execution_count": 14,
   "metadata": {
    "execution": {
     "iopub.execute_input": "2022-08-30T15:16:49.918756Z",
     "iopub.status.busy": "2022-08-30T15:16:49.918489Z",
     "iopub.status.idle": "2022-08-30T15:31:17.698945Z",
     "shell.execute_reply": "2022-08-30T15:31:17.698156Z",
     "shell.execute_reply.started": "2022-08-30T15:16:49.918740Z"
    }
   },
   "outputs": [
    {
     "name": "stderr",
     "output_type": "stream",
     "text": [
      "INFO:root:Cache path found\n",
      "INFO:root:Checking for cached predictions...\n",
      "INFO:root:Running classifier...\n",
      "INFO:root:Saving predictions...\n",
      "INFO:root:Writing to data/predictions.json\n",
      "INFO:root:Done!\n",
      "INFO:root:Checking for cached embeddings...\n",
      "INFO:root:Embedding training and testing datasets\n",
      "INFO:root:Saving embeddings...\n",
      "INFO:root:Writing to data/embedding_training.json\n",
      "INFO:root:Writing to data/embedding_testing.json\n",
      "INFO:root:Done!\n",
      "INFO:root:Checking for cached projections...\n",
      "INFO:root:Training projector...\n",
      "INFO:root:Applying projector to test dataset...\n",
      "INFO:root:Saving projections...\n",
      "INFO:root:Writing to data/projections_training.json\n",
      "INFO:root:Writing to data/projections_testing.json\n",
      "INFO:root:Writing to data/projector.pkl.gz\n",
      "INFO:root:Done!\n",
      "INFO:root:Checking for cached salience maps...\n",
      "INFO:root:Computing salience maps...\n"
     ]
    },
    {
     "data": {
      "application/vnd.jupyter.widget-view+json": {
       "model_id": "f323fa90e9ea47aca71d00ebcc0b2c28",
       "version_major": 2,
       "version_minor": 0
      },
      "text/plain": [
       "  0%|          | 0/2000 [00:00<?, ?it/s]"
      ]
     },
     "metadata": {},
     "output_type": "display_data"
    },
    {
     "name": "stderr",
     "output_type": "stream",
     "text": [
      "INFO:root:Saving salience maps...\n",
      "INFO:root:Writing to data/salience.pkl.gz\n",
      "INFO:root:Done!\n",
      "INFO:root:Checking for cached cluster profiles...\n",
      "INFO:root:Clustering projections...\n",
      "INFO:root:Saving cluster profiles...\n",
      "INFO:root:Writing to data/clusters.json\n",
      "INFO:root:Writing to data/cluster_profiles.pkl.gz\n",
      "INFO:root:Done!\n",
      "INFO:root:Saving cluster labels...\n",
      "INFO:root:Writing to data/cluster_labels.json\n",
      "INFO:root:Done!\n",
      "INFO:root:Saving cluster word counts...\n",
      "INFO:root:Writing to data/cluster_words.json\n",
      "INFO:root:Writing to data/cluster_class_words.json\n",
      "INFO:root:Done!\n"
     ]
    }
   ],
   "source": [
    "wrapper = Wrapper(\n",
    "    train_texts=train_cleaned.text,\n",
    "    train_labels=train_cleaned.label,\n",
    "    test_texts=test_cleaned.text[:2000],\n",
    "    test_labels=test_cleaned.label[:2000],\n",
    "    encodings=encodings,\n",
    "    classifier=model,\n",
    "    language_model=model.l1,\n",
    "    tokenizer=tokenizer,\n",
    "    overwrite=True,\n",
    ")\n",
    "wrapper.prepare()"
   ]
  },
  {
   "cell_type": "code",
   "execution_count": 15,
   "metadata": {
    "execution": {
     "iopub.execute_input": "2022-08-30T15:31:17.700394Z",
     "iopub.status.busy": "2022-08-30T15:31:17.699780Z",
     "iopub.status.idle": "2022-08-30T15:31:21.098173Z",
     "shell.execute_reply": "2022-08-30T15:31:21.097429Z",
     "shell.execute_reply.started": "2022-08-30T15:31:17.700376Z"
    }
   },
   "outputs": [
    {
     "data": {
      "application/vnd.jupyter.widget-view+json": {
       "model_id": "4987f18bf5f04d17b67ab26dbae54ea3",
       "version_major": 2,
       "version_minor": 0
      },
      "text/plain": [
       "VBox(children=(VBox(children=(HTML(value='<h3>UMAP Embedding Graph</h3>'), HBox(children=(Output(), VBox(child…"
      ]
     },
     "metadata": {},
     "output_type": "display_data"
    }
   ],
   "source": [
    "dash = Dashboard(wrapper)\n",
    "dash.render()"
   ]
  },
  {
   "cell_type": "markdown",
   "metadata": {},
   "source": [
    "To play with different UMAP and DBSCAN arguments without having to recompute the entire `prepare()` function, you can use `recompute_projections` (which will recompute both the projections and visual clusterings) or `recompute_visual_clusterings` (which will only redo the clustering)"
   ]
  },
  {
   "cell_type": "code",
   "execution_count": 16,
   "metadata": {
    "execution": {
     "iopub.execute_input": "2022-08-30T15:31:21.099253Z",
     "iopub.status.busy": "2022-08-30T15:31:21.098991Z",
     "iopub.status.idle": "2022-08-30T15:31:21.121355Z",
     "shell.execute_reply": "2022-08-30T15:31:21.120668Z",
     "shell.execute_reply.started": "2022-08-30T15:31:21.099237Z"
    }
   },
   "outputs": [],
   "source": [
    "# wrapper.recompute_visual_clusterings(\"KMeans\", clustering_args=dict(n_clusters=18))\n",
    "# wrapper.recompute_visual_clusterings(\"OPTICS\", clustering_args=dict())\n",
    "# wrapper.recompute_projections(umap_args=dict(min_dist=.2), dbscan_args=dict())"
   ]
  },
  {
   "cell_type": "markdown",
   "metadata": {},
   "source": [
    "To test or debug the classification model/see what raw outputs the viusualizations are getting, or create your own visualization tools, you can manually call the `classify()`, `soft_classify()`, `embed()` functions, or get access to any of the cached data as seen in the bottom cell"
   ]
  },
  {
   "cell_type": "code",
   "execution_count": 17,
   "metadata": {
    "execution": {
     "iopub.execute_input": "2022-08-30T15:31:21.122449Z",
     "iopub.status.busy": "2022-08-30T15:31:21.122323Z",
     "iopub.status.idle": "2022-08-30T15:31:21.153544Z",
     "shell.execute_reply": "2022-08-30T15:31:21.152816Z",
     "shell.execute_reply.started": "2022-08-30T15:31:21.122434Z"
    }
   },
   "outputs": [
    {
     "data": {
      "text/plain": [
       "[7]"
      ]
     },
     "execution_count": 17,
     "metadata": {},
     "output_type": "execute_result"
    }
   ],
   "source": [
    "wrapper.classify([\"testing\"])"
   ]
  },
  {
   "cell_type": "code",
   "execution_count": 18,
   "metadata": {
    "execution": {
     "iopub.execute_input": "2022-08-30T15:31:21.154791Z",
     "iopub.status.busy": "2022-08-30T15:31:21.154250Z",
     "iopub.status.idle": "2022-08-30T15:31:21.183855Z",
     "shell.execute_reply": "2022-08-30T15:31:21.183172Z",
     "shell.execute_reply.started": "2022-08-30T15:31:21.154776Z"
    }
   },
   "outputs": [
    {
     "data": {
      "text/plain": [
       "[[-0.7675967812538147,\n",
       "  0.37115374207496643,\n",
       "  -0.680725634098053,\n",
       "  -0.25410276651382446,\n",
       "  0.19325847923755646,\n",
       "  -0.7501914501190186,\n",
       "  0.2866215705871582,\n",
       "  1.9878785610198975,\n",
       "  1.865959644317627,\n",
       "  0.3656235933303833,\n",
       "  0.90781170129776,\n",
       "  -0.4878403842449188,\n",
       "  0.5242507457733154,\n",
       "  -0.6478577852249146,\n",
       "  1.5967403650283813,\n",
       "  -0.9990733861923218,\n",
       "  0.18175722658634186,\n",
       "  -0.6164167523384094,\n",
       "  -0.20029222965240479,\n",
       "  -0.7807379961013794]]"
      ]
     },
     "execution_count": 18,
     "metadata": {},
     "output_type": "execute_result"
    }
   ],
   "source": [
    "wrapper.soft_classify([\"testing\"])"
   ]
  },
  {
   "cell_type": "code",
   "execution_count": 19,
   "metadata": {
    "execution": {
     "iopub.execute_input": "2022-08-30T15:31:21.185109Z",
     "iopub.status.busy": "2022-08-30T15:31:21.184560Z",
     "iopub.status.idle": "2022-08-30T15:31:21.216984Z",
     "shell.execute_reply": "2022-08-30T15:31:21.216314Z",
     "shell.execute_reply.started": "2022-08-30T15:31:21.185094Z"
    }
   },
   "outputs": [
    {
     "data": {
      "text/plain": [
       "[[0.3257785439491272,\n",
       "  0.1941276341676712,\n",
       "  0.22778309881687164,\n",
       "  0.05300439894199371,\n",
       "  -0.776377260684967,\n",
       "  -0.05747783184051514,\n",
       "  0.46625256538391113,\n",
       "  -0.42020565271377563,\n",
       "  0.6040894985198975,\n",
       "  -2.085850954055786,\n",
       "  0.19081230461597443,\n",
       "  0.43933579325675964,\n",
       "  0.1178106889128685,\n",
       "  0.18769095838069916,\n",
       "  -0.5866035223007202,\n",
       "  0.5796066522598267,\n",
       "  0.28896135091781616,\n",
       "  1.0701603889465332,\n",
       "  0.6625005602836609,\n",
       "  -0.14069761335849762,\n",
       "  -0.6778650283813477,\n",
       "  -0.37104979157447815,\n",
       "  0.23066510260105133,\n",
       "  -0.6765812039375305,\n",
       "  0.43055927753448486,\n",
       "  0.3433234393596649,\n",
       "  0.17353135347366333,\n",
       "  0.8855330348014832,\n",
       "  -0.27100226283073425,\n",
       "  0.1699751913547516,\n",
       "  -0.5471538305282593,\n",
       "  0.6326169967651367,\n",
       "  -0.6712830662727356,\n",
       "  -0.16603030264377594,\n",
       "  -0.5486398339271545,\n",
       "  -0.5784294009208679,\n",
       "  0.4639623463153839,\n",
       "  0.3947382867336273,\n",
       "  -0.41887450218200684,\n",
       "  -0.06262397021055222,\n",
       "  -0.7516175508499146,\n",
       "  0.5681442618370056,\n",
       "  0.3765447735786438,\n",
       "  -1.0244942903518677,\n",
       "  0.024733824655413628,\n",
       "  0.3524284362792969,\n",
       "  -0.03266702964901924,\n",
       "  -0.6030113697052002,\n",
       "  -0.45347774028778076,\n",
       "  0.021608468145132065,\n",
       "  -0.4538446068763733,\n",
       "  0.24477185308933258,\n",
       "  0.34494447708129883,\n",
       "  0.9564956426620483,\n",
       "  0.06578093767166138,\n",
       "  0.2644696533679962,\n",
       "  -0.4670087397098541,\n",
       "  -0.3978160619735718,\n",
       "  -0.3022792935371399,\n",
       "  0.5369521379470825,\n",
       "  -0.17082825303077698,\n",
       "  -0.3285968005657196,\n",
       "  0.12969554960727692,\n",
       "  0.7861225605010986,\n",
       "  0.48482266068458557,\n",
       "  -0.09070172905921936,\n",
       "  1.1348466873168945,\n",
       "  -0.9646365642547607,\n",
       "  0.04641934111714363,\n",
       "  0.012020545080304146,\n",
       "  -0.06728960573673248,\n",
       "  -0.45843061804771423,\n",
       "  0.32917776703834534,\n",
       "  0.7644643187522888,\n",
       "  0.15166011452674866,\n",
       "  -1.0677608251571655,\n",
       "  -0.8606052398681641,\n",
       "  0.14468073844909668,\n",
       "  -0.32429569959640503,\n",
       "  0.38533103466033936,\n",
       "  0.7664085030555725,\n",
       "  0.16993296146392822,\n",
       "  -0.3956771492958069,\n",
       "  -0.5821629762649536,\n",
       "  -0.19625720381736755,\n",
       "  -0.36819717288017273,\n",
       "  -0.1867721974849701,\n",
       "  -0.21956180036067963,\n",
       "  0.16361567378044128,\n",
       "  -0.5161445140838623,\n",
       "  -0.22044233977794647,\n",
       "  0.46233317255973816,\n",
       "  -0.7659333944320679,\n",
       "  0.6234657168388367,\n",
       "  -0.7102795839309692,\n",
       "  -0.12338747084140778,\n",
       "  -0.1620403379201889,\n",
       "  0.05627830699086189,\n",
       "  3.7257211208343506,\n",
       "  0.2917644679546356,\n",
       "  -0.5576642751693726,\n",
       "  -0.7187569737434387,\n",
       "  -0.13612709939479828,\n",
       "  0.3153207004070282,\n",
       "  0.3982675075531006,\n",
       "  -0.17207255959510803,\n",
       "  -0.6992816925048828,\n",
       "  -0.407561331987381,\n",
       "  0.12339125573635101,\n",
       "  -1.0801382064819336,\n",
       "  1.053148865699768,\n",
       "  0.49915263056755066,\n",
       "  0.47898396849632263,\n",
       "  0.2429884523153305,\n",
       "  0.5278680920600891,\n",
       "  -0.34457311034202576,\n",
       "  0.13330020010471344,\n",
       "  0.13146303594112396,\n",
       "  -0.025927474722266197,\n",
       "  1.1243971586227417,\n",
       "  0.10117471218109131,\n",
       "  0.8649218678474426,\n",
       "  1.8046269416809082,\n",
       "  -0.3839365243911743,\n",
       "  -0.6902779340744019,\n",
       "  -0.0697956457734108,\n",
       "  0.719115138053894,\n",
       "  -0.19942617416381836,\n",
       "  0.5977525115013123,\n",
       "  0.28354156017303467,\n",
       "  -0.5005687475204468,\n",
       "  0.6404092311859131,\n",
       "  -0.3425183892250061,\n",
       "  0.22417569160461426,\n",
       "  0.4543583393096924,\n",
       "  0.21968680620193481,\n",
       "  -0.9909101128578186,\n",
       "  0.24976666271686554,\n",
       "  -2.1726737022399902,\n",
       "  0.2568148970603943,\n",
       "  -1.2395159006118774,\n",
       "  0.21624702215194702,\n",
       "  -0.08641070127487183,\n",
       "  -0.9194565415382385,\n",
       "  -0.7240844964981079,\n",
       "  2.4238736629486084,\n",
       "  1.081241250038147,\n",
       "  0.08757243305444717,\n",
       "  0.1986590325832367,\n",
       "  -1.6210159063339233,\n",
       "  0.7911577820777893,\n",
       "  0.23367008566856384,\n",
       "  -0.08299348503351212,\n",
       "  0.48476073145866394,\n",
       "  0.6777955889701843,\n",
       "  -0.265281617641449,\n",
       "  -0.5836642384529114,\n",
       "  -0.03926129266619682,\n",
       "  0.47956985235214233,\n",
       "  0.6836913824081421,\n",
       "  -0.35390737652778625,\n",
       "  -0.2960045039653778,\n",
       "  -0.5219394564628601,\n",
       "  0.5844985246658325,\n",
       "  0.765025794506073,\n",
       "  -0.21718661487102509,\n",
       "  0.5798118114471436,\n",
       "  -0.6874115467071533,\n",
       "  0.8260195255279541,\n",
       "  0.4480101466178894,\n",
       "  -0.577497661113739,\n",
       "  -1.4107811450958252,\n",
       "  -1.1551764011383057,\n",
       "  0.3066434860229492,\n",
       "  0.7326799035072327,\n",
       "  -0.23137266933918,\n",
       "  0.06518001854419708,\n",
       "  0.9003337025642395,\n",
       "  -0.14288745820522308,\n",
       "  -0.7939227223396301,\n",
       "  -0.698521077632904,\n",
       "  0.8196452260017395,\n",
       "  0.7371060848236084,\n",
       "  -0.7887428998947144,\n",
       "  -0.023539889603853226,\n",
       "  0.4975293278694153,\n",
       "  -0.22377614676952362,\n",
       "  -1.0082693099975586,\n",
       "  1.104008674621582,\n",
       "  -0.45768195390701294,\n",
       "  0.7267170548439026,\n",
       "  -0.9920539855957031,\n",
       "  0.030437687411904335,\n",
       "  -0.45453181862831116,\n",
       "  1.248217225074768,\n",
       "  -0.9138275384902954,\n",
       "  -1.1390835046768188,\n",
       "  -0.0571090504527092,\n",
       "  -0.037946559488773346,\n",
       "  0.8228226900100708,\n",
       "  0.5306998491287231,\n",
       "  0.2757912874221802,\n",
       "  -1.0404212474822998,\n",
       "  0.21349671483039856,\n",
       "  0.1954883635044098,\n",
       "  -0.4357527196407318,\n",
       "  0.5278480052947998,\n",
       "  -0.3196170926094055,\n",
       "  0.6023119688034058,\n",
       "  -0.39249250292778015,\n",
       "  -0.06590880453586578,\n",
       "  -0.006948687136173248,\n",
       "  1.1189695596694946,\n",
       "  -0.08942282199859619,\n",
       "  -0.030787715688347816,\n",
       "  -0.37021681666374207,\n",
       "  0.2549102008342743,\n",
       "  0.367241770029068,\n",
       "  0.2633810341358185,\n",
       "  0.17934639751911163,\n",
       "  -0.7440186738967896,\n",
       "  0.008118739351630211,\n",
       "  -0.177081897854805,\n",
       "  -0.2060643881559372,\n",
       "  0.5789471864700317,\n",
       "  -0.1236381009221077,\n",
       "  0.554618775844574,\n",
       "  -0.48673930764198303,\n",
       "  -0.2620667517185211,\n",
       "  0.2975758910179138,\n",
       "  1.3532243967056274,\n",
       "  0.22465462982654572,\n",
       "  -1.1038750410079956,\n",
       "  -1.1446040868759155,\n",
       "  0.01018220279365778,\n",
       "  0.26477813720703125,\n",
       "  -1.0821951627731323,\n",
       "  1.1423659324645996,\n",
       "  -0.7174528241157532,\n",
       "  -0.33304011821746826,\n",
       "  0.8886317610740662,\n",
       "  -0.6835908889770508,\n",
       "  -0.00010090150317410007,\n",
       "  -0.005808295216411352,\n",
       "  -0.20782430469989777,\n",
       "  -0.36696675419807434,\n",
       "  0.3242262303829193,\n",
       "  -0.16949376463890076,\n",
       "  1.1688581705093384,\n",
       "  -0.09465992450714111,\n",
       "  0.6320198774337769,\n",
       "  0.21670489013195038,\n",
       "  -0.8199101090431213,\n",
       "  -0.24811524152755737,\n",
       "  0.8760137557983398,\n",
       "  0.051150884479284286,\n",
       "  -0.926081657409668,\n",
       "  -0.9358611702919006,\n",
       "  1.0372406244277954,\n",
       "  -0.6517298817634583,\n",
       "  0.045177508145570755,\n",
       "  -2.953850507736206,\n",
       "  0.8260079622268677,\n",
       "  -0.09245969355106354,\n",
       "  -0.18090970814228058,\n",
       "  0.14523662626743317,\n",
       "  0.1034339964389801,\n",
       "  1.0057399272918701,\n",
       "  0.9619526267051697,\n",
       "  -0.19622831046581268,\n",
       "  1.6421579122543335,\n",
       "  -0.26055070757865906,\n",
       "  -0.38821202516555786,\n",
       "  0.4047693908214569,\n",
       "  0.013451209291815758,\n",
       "  0.14292746782302856,\n",
       "  0.8569375872612,\n",
       "  -0.7843008041381836,\n",
       "  -0.6145340800285339,\n",
       "  -0.5054886937141418,\n",
       "  -0.6253150701522827,\n",
       "  0.12207186222076416,\n",
       "  -1.5910447835922241,\n",
       "  0.1576814502477646,\n",
       "  -1.109810471534729,\n",
       "  0.34044772386550903,\n",
       "  0.9171756505966187,\n",
       "  -0.9708619117736816,\n",
       "  -0.19531500339508057,\n",
       "  3.6016364097595215,\n",
       "  1.1988474130630493,\n",
       "  -0.81159508228302,\n",
       "  0.06110545992851257,\n",
       "  -1.4625229835510254,\n",
       "  0.5661830902099609,\n",
       "  -0.6807641983032227,\n",
       "  -0.1701250672340393,\n",
       "  -0.746955931186676,\n",
       "  -0.05141189321875572,\n",
       "  0.2838868200778961,\n",
       "  0.534616231918335,\n",
       "  -0.03864424303174019,\n",
       "  -1.0733267068862915,\n",
       "  0.08622033149003983,\n",
       "  -1.305626392364502,\n",
       "  -0.9620245099067688,\n",
       "  0.9375513195991516,\n",
       "  0.34482574462890625,\n",
       "  -0.531467616558075,\n",
       "  -0.4910753667354584,\n",
       "  -0.15619288384914398,\n",
       "  -0.6726151704788208,\n",
       "  -0.11887290328741074,\n",
       "  0.43584686517715454,\n",
       "  -0.34643685817718506,\n",
       "  -1.3456610441207886,\n",
       "  -0.7617397904396057,\n",
       "  -0.24920211732387543,\n",
       "  -0.5524057149887085,\n",
       "  -0.2189505249261856,\n",
       "  0.8650991916656494,\n",
       "  0.3075414001941681,\n",
       "  -0.5331290364265442,\n",
       "  0.28524279594421387,\n",
       "  -1.2284297943115234,\n",
       "  -1.3233139514923096,\n",
       "  -0.35571134090423584,\n",
       "  -0.19711530208587646,\n",
       "  -1.656599998474121,\n",
       "  0.19545213878154755,\n",
       "  0.19911663234233856,\n",
       "  -0.26293906569480896,\n",
       "  -0.2495458424091339,\n",
       "  0.4810049533843994,\n",
       "  -0.6589987277984619,\n",
       "  0.3450751006603241,\n",
       "  -0.05985207483172417,\n",
       "  0.15832148492336273,\n",
       "  0.11398868262767792,\n",
       "  0.38134071230888367,\n",
       "  0.2207532525062561,\n",
       "  0.4414307773113251,\n",
       "  -0.35454681515693665,\n",
       "  -0.8321408033370972,\n",
       "  -0.11387696117162704,\n",
       "  -0.48722678422927856,\n",
       "  -0.43812116980552673,\n",
       "  -0.233102485537529,\n",
       "  0.7695993185043335,\n",
       "  0.9425476789474487,\n",
       "  0.8288084864616394,\n",
       "  -0.13263067603111267,\n",
       "  -0.3653862476348877,\n",
       "  -0.13084805011749268,\n",
       "  -0.4999594986438751,\n",
       "  -0.9164244532585144,\n",
       "  -0.4695175290107727,\n",
       "  -0.9937105178833008,\n",
       "  -0.1326601356267929,\n",
       "  0.6137423515319824,\n",
       "  0.04912867024540901,\n",
       "  -1.5440082550048828,\n",
       "  0.3310490548610687,\n",
       "  0.3970146179199219,\n",
       "  0.47262832522392273,\n",
       "  -1.10667085647583,\n",
       "  0.14740630984306335,\n",
       "  0.1437317281961441,\n",
       "  -0.24897944927215576,\n",
       "  0.25393182039260864,\n",
       "  0.16643598675727844,\n",
       "  0.17171382904052734,\n",
       "  0.05739166960120201,\n",
       "  0.4999319314956665,\n",
       "  0.0034406932536512613,\n",
       "  -0.1514752060174942,\n",
       "  -0.3709798753261566,\n",
       "  0.6055518984794617,\n",
       "  0.021935587748885155,\n",
       "  -0.2104247510433197,\n",
       "  0.2681419253349304,\n",
       "  0.31717491149902344,\n",
       "  1.3167132139205933,\n",
       "  0.28750765323638916,\n",
       "  -0.13345666229724884,\n",
       "  0.10402823984622955,\n",
       "  0.36907175183296204,\n",
       "  -0.8954958319664001,\n",
       "  -0.621472179889679,\n",
       "  -0.39818233251571655,\n",
       "  0.36928609013557434,\n",
       "  -1.2680011987686157,\n",
       "  -0.15459078550338745,\n",
       "  -0.5141058564186096,\n",
       "  -0.4264528155326843,\n",
       "  0.13645848631858826,\n",
       "  -0.1722436547279358,\n",
       "  0.10296399891376495,\n",
       "  0.11512969434261322,\n",
       "  -0.02341894619166851,\n",
       "  -0.9704009890556335,\n",
       "  -1.086197018623352,\n",
       "  -0.5159769058227539,\n",
       "  -0.4131430983543396,\n",
       "  0.4150274097919464,\n",
       "  0.8351952433586121,\n",
       "  0.038004204630851746,\n",
       "  0.6463508009910583,\n",
       "  -1.1902252435684204,\n",
       "  -0.046910498291254044,\n",
       "  0.9338920712471008,\n",
       "  0.5708919167518616,\n",
       "  0.032975319772958755,\n",
       "  -0.7106330990791321,\n",
       "  1.2522673606872559,\n",
       "  0.048681266605854034,\n",
       "  0.25118958950042725,\n",
       "  0.24826344847679138,\n",
       "  -0.06550918519496918,\n",
       "  -0.15023593604564667,\n",
       "  -0.9777416586875916,\n",
       "  0.12697207927703857,\n",
       "  0.49380943179130554,\n",
       "  -0.8661468625068665,\n",
       "  1.1774321794509888,\n",
       "  -0.7929350733757019,\n",
       "  0.13983941078186035,\n",
       "  -1.1523056030273438,\n",
       "  0.8557379245758057,\n",
       "  0.6538535952568054,\n",
       "  -0.7044921517372131,\n",
       "  0.8906837105751038,\n",
       "  0.5156530141830444,\n",
       "  0.7641676068305969,\n",
       "  -0.6988935470581055,\n",
       "  -0.046674132347106934,\n",
       "  0.6277700066566467,\n",
       "  -1.0157464742660522,\n",
       "  0.2386183887720108,\n",
       "  3.247708797454834,\n",
       "  -0.9556722044944763,\n",
       "  0.01387437991797924,\n",
       "  0.008178354240953922,\n",
       "  -1.1458778381347656,\n",
       "  -0.495990514755249,\n",
       "  0.13608764111995697,\n",
       "  -1.672977328300476,\n",
       "  1.2829312086105347,\n",
       "  -0.11554569751024246,\n",
       "  -0.9081726670265198,\n",
       "  -0.3992842137813568,\n",
       "  0.21645571291446686,\n",
       "  -0.576873242855072,\n",
       "  -0.014760230667889118,\n",
       "  0.861061692237854,\n",
       "  -0.661663830280304,\n",
       "  0.2355392426252365,\n",
       "  1.3400110006332397,\n",
       "  -0.38462597131729126,\n",
       "  0.5325023531913757,\n",
       "  0.0060090478509664536,\n",
       "  1.1531661748886108,\n",
       "  -0.6148254871368408,\n",
       "  0.07331933826208115,\n",
       "  2.0062880516052246,\n",
       "  0.055505648255348206,\n",
       "  0.013135646469891071,\n",
       "  1.0073728561401367,\n",
       "  -0.8420162200927734,\n",
       "  0.10353659093379974,\n",
       "  0.10683457553386688,\n",
       "  -0.5861645340919495,\n",
       "  -0.40452346205711365,\n",
       "  0.22323951125144958,\n",
       "  0.11616478115320206,\n",
       "  -0.18579724431037903,\n",
       "  0.2028982937335968,\n",
       "  0.1491546332836151,\n",
       "  0.7121782898902893,\n",
       "  0.44613829255104065,\n",
       "  1.092949628829956,\n",
       "  1.336411952972412,\n",
       "  -0.2971693277359009,\n",
       "  0.3299473822116852,\n",
       "  -0.10457387566566467,\n",
       "  0.4370571970939636,\n",
       "  0.42492568492889404,\n",
       "  -0.47229257225990295,\n",
       "  0.45981743931770325,\n",
       "  0.4585287868976593,\n",
       "  0.05575025454163551,\n",
       "  0.45974647998809814,\n",
       "  -0.8495302796363831,\n",
       "  -0.1867133378982544,\n",
       "  0.849586009979248,\n",
       "  -1.1103376150131226,\n",
       "  0.048347488045692444,\n",
       "  0.0915876105427742,\n",
       "  -0.5084858536720276,\n",
       "  0.20562002062797546,\n",
       "  -0.41695624589920044,\n",
       "  0.5242181420326233,\n",
       "  -0.751872181892395,\n",
       "  -0.38847479224205017,\n",
       "  -0.46151047945022583,\n",
       "  0.8080265522003174,\n",
       "  -0.22435620427131653,\n",
       "  -1.2631595134735107,\n",
       "  0.040981873869895935,\n",
       "  -0.729856014251709,\n",
       "  1.1192686557769775,\n",
       "  -0.6842857003211975,\n",
       "  0.421893835067749,\n",
       "  0.15423248708248138,\n",
       "  -1.1929166316986084,\n",
       "  1.4531375169754028,\n",
       "  0.4491939842700958,\n",
       "  -0.5040484666824341,\n",
       "  0.031631942838430405,\n",
       "  -0.5207423567771912,\n",
       "  -0.4536464810371399,\n",
       "  0.7205270528793335,\n",
       "  -0.8716912865638733,\n",
       "  0.6618421077728271,\n",
       "  -0.03933551907539368,\n",
       "  0.8540335893630981,\n",
       "  -0.40507692098617554,\n",
       "  0.7031485438346863,\n",
       "  -0.5795947313308716,\n",
       "  -0.014147319830954075,\n",
       "  -0.3274684250354767,\n",
       "  0.744642972946167,\n",
       "  -0.7072739601135254,\n",
       "  0.32697850465774536,\n",
       "  0.6742130517959595,\n",
       "  0.032889753580093384,\n",
       "  0.17435120046138763,\n",
       "  -0.5244353413581848,\n",
       "  0.5270541906356812,\n",
       "  -0.19485408067703247,\n",
       "  0.5050483345985413,\n",
       "  0.5970104932785034,\n",
       "  -0.2850320041179657,\n",
       "  0.5822660326957703,\n",
       "  0.5031139254570007,\n",
       "  -0.36692431569099426,\n",
       "  0.08224266767501831,\n",
       "  -0.14488185942173004,\n",
       "  0.38861513137817383,\n",
       "  1.0306881666183472,\n",
       "  -1.3157236576080322,\n",
       "  -0.3552037179470062,\n",
       "  -0.12771116197109222,\n",
       "  0.6569636464118958,\n",
       "  1.0901752710342407,\n",
       "  0.5190964341163635,\n",
       "  -0.6773936748504639,\n",
       "  -3.7475500106811523,\n",
       "  0.5172981023788452,\n",
       "  -0.07474534958600998,\n",
       "  -0.13541974127292633,\n",
       "  0.3726900815963745,\n",
       "  -0.7753428220748901,\n",
       "  1.0870637893676758,\n",
       "  0.2972191572189331,\n",
       "  -0.44324731826782227,\n",
       "  0.011292614974081516,\n",
       "  0.8902273178100586,\n",
       "  0.4404633641242981,\n",
       "  -2.4020862579345703,\n",
       "  0.12006518989801407,\n",
       "  -0.4736763536930084,\n",
       "  0.3565775454044342,\n",
       "  0.623288094997406,\n",
       "  -2.0067248344421387,\n",
       "  -1.0379438400268555,\n",
       "  0.24810238182544708,\n",
       "  0.2649343013763428,\n",
       "  -0.7022840976715088,\n",
       "  -0.4921928644180298,\n",
       "  1.0100035667419434,\n",
       "  0.5724521279335022,\n",
       "  0.5207247734069824,\n",
       "  -0.013053158298134804,\n",
       "  -0.891416072845459,\n",
       "  -0.46196943521499634,\n",
       "  -0.7109074592590332,\n",
       "  -0.1966007500886917,\n",
       "  0.5529248118400574,\n",
       "  0.5942683219909668,\n",
       "  -0.9698048233985901,\n",
       "  -0.4417569637298584,\n",
       "  -1.1212071180343628,\n",
       "  0.6789183020591736,\n",
       "  0.4394867420196533,\n",
       "  0.22786875069141388,\n",
       "  -0.7321802973747253,\n",
       "  -0.2201574444770813,\n",
       "  0.21289128065109253,\n",
       "  0.3795722424983978,\n",
       "  0.2756665050983429,\n",
       "  -0.6989063620567322,\n",
       "  -0.5107990503311157,\n",
       "  -0.02650376409292221,\n",
       "  -0.46219876408576965,\n",
       "  0.6538854241371155,\n",
       "  -0.022001314908266068,\n",
       "  2.4452245235443115,\n",
       "  -0.20601613819599152,\n",
       "  -0.4428144693374634,\n",
       "  -0.9594869017601013,\n",
       "  -0.33543136715888977,\n",
       "  -0.11895883828401566,\n",
       "  0.7031912803649902,\n",
       "  0.765997052192688,\n",
       "  -0.03874862194061279,\n",
       "  -0.13557559251785278,\n",
       "  -0.45313191413879395,\n",
       "  -0.19113631546497345,\n",
       "  0.21081797778606415,\n",
       "  1.1032955646514893,\n",
       "  -0.15630251169204712,\n",
       "  -0.18300177156925201,\n",
       "  -0.6217740774154663,\n",
       "  -0.22422365844249725,\n",
       "  0.20373739302158356,\n",
       "  0.48973390460014343,\n",
       "  -0.3016345798969269,\n",
       "  0.04283149912953377,\n",
       "  -0.09644865244626999,\n",
       "  0.43714940547943115,\n",
       "  -0.1741136759519577,\n",
       "  -0.6247453093528748,\n",
       "  -0.3997651934623718,\n",
       "  -0.18957960605621338,\n",
       "  0.12489264458417892,\n",
       "  0.3769235610961914,\n",
       "  -1.0570968389511108,\n",
       "  -0.5393227338790894,\n",
       "  0.801246166229248,\n",
       "  0.07748040556907654,\n",
       "  -0.04846654087305069,\n",
       "  0.09399118274450302,\n",
       "  -1.2299511432647705,\n",
       "  0.6705018877983093,\n",
       "  -0.1648567169904709,\n",
       "  0.16894786059856415,\n",
       "  -0.8441997766494751,\n",
       "  -0.8180461525917053,\n",
       "  -0.4588463604450226,\n",
       "  0.9501957893371582,\n",
       "  0.06180299445986748,\n",
       "  0.1719098538160324,\n",
       "  0.298265278339386,\n",
       "  0.7050678730010986,\n",
       "  0.3748864531517029,\n",
       "  -0.3477801978588104,\n",
       "  -0.258105993270874,\n",
       "  0.657149612903595,\n",
       "  -0.30953913927078247,\n",
       "  0.034020885825157166,\n",
       "  -0.3746359348297119,\n",
       "  -0.06608682870864868,\n",
       "  2.6365177631378174,\n",
       "  0.5255529880523682,\n",
       "  -0.8638609051704407,\n",
       "  0.42660918831825256,\n",
       "  -0.2607811689376831,\n",
       "  -0.18004488945007324,\n",
       "  0.358671635389328,\n",
       "  0.5626512765884399,\n",
       "  0.36100056767463684,\n",
       "  0.43727466464042664,\n",
       "  -0.10886441171169281,\n",
       "  -0.3833067715167999,\n",
       "  0.19816094636917114,\n",
       "  0.03471134603023529,\n",
       "  -1.1687541007995605,\n",
       "  0.2343001514673233,\n",
       "  -0.4310636520385742,\n",
       "  0.10951044410467148,\n",
       "  0.08727481216192245,\n",
       "  0.7647390961647034,\n",
       "  0.45748278498649597,\n",
       "  -0.4344593584537506,\n",
       "  0.20149347186088562,\n",
       "  -0.6282487511634827,\n",
       "  0.19458216428756714,\n",
       "  -0.4331308901309967,\n",
       "  -0.8112989664077759,\n",
       "  -0.2443033903837204,\n",
       "  0.19435404241085052,\n",
       "  -0.8486553430557251,\n",
       "  -0.019458796828985214,\n",
       "  -0.2365271896123886,\n",
       "  0.3104105591773987,\n",
       "  1.3573658466339111,\n",
       "  -0.256758451461792,\n",
       "  0.5496453046798706,\n",
       "  0.8778666853904724,\n",
       "  -0.2240515798330307,\n",
       "  1.2094085216522217,\n",
       "  -0.33819150924682617,\n",
       "  0.10337083786725998,\n",
       "  -0.32828980684280396,\n",
       "  -0.7697487473487854,\n",
       "  0.885711133480072,\n",
       "  0.07140015810728073,\n",
       "  -0.033648695796728134,\n",
       "  -0.7357186675071716,\n",
       "  -0.6314248442649841,\n",
       "  0.6959500908851624,\n",
       "  -0.8180139660835266,\n",
       "  -0.005591563414782286,\n",
       "  0.570253312587738,\n",
       "  -0.8421434164047241,\n",
       "  1.504879117012024,\n",
       "  1.1885493993759155,\n",
       "  0.4954776167869568,\n",
       "  -0.0819467157125473,\n",
       "  -0.31695467233657837,\n",
       "  0.05993947386741638,\n",
       "  -0.45162761211395264,\n",
       "  -0.7521586418151855,\n",
       "  -0.23346538841724396,\n",
       "  0.02314044162631035,\n",
       "  1.662979006767273,\n",
       "  -0.3148796260356903,\n",
       "  -0.3777298927307129,\n",
       "  -0.012143837288022041,\n",
       "  0.6689054369926453,\n",
       "  0.7216571569442749,\n",
       "  -1.2612557411193848,\n",
       "  -1.2578659057617188,\n",
       "  0.051008958369493484,\n",
       "  -1.6727492809295654,\n",
       "  0.10425684601068497,\n",
       "  0.3612258732318878,\n",
       "  0.5827659368515015,\n",
       "  -0.7491611838340759,\n",
       "  -0.41838204860687256,\n",
       "  0.5528382658958435,\n",
       "  -0.4226161539554596,\n",
       "  -0.24602319300174713,\n",
       "  0.5934565663337708,\n",
       "  0.12065861374139786,\n",
       "  0.25929024815559387,\n",
       "  0.595865786075592,\n",
       "  0.04680918902158737,\n",
       "  -0.8817389011383057,\n",
       "  -0.21995232999324799,\n",
       "  -0.5978357791900635,\n",
       "  -0.022786978632211685,\n",
       "  0.00818174984306097,\n",
       "  -0.16265447437763214,\n",
       "  -0.36884069442749023,\n",
       "  0.8837756514549255,\n",
       "  0.20076574385166168,\n",
       "  0.20067104697227478,\n",
       "  0.7150009870529175,\n",
       "  -0.4942372441291809,\n",
       "  -0.5743973255157471,\n",
       "  0.2916664481163025,\n",
       "  0.16942013800144196,\n",
       "  1.095083475112915,\n",
       "  0.0034648613072931767,\n",
       "  1.1389188766479492,\n",
       "  -0.5043260455131531]]"
      ]
     },
     "execution_count": 19,
     "metadata": {},
     "output_type": "execute_result"
    }
   ],
   "source": [
    "wrapper.embed([\"testing\"])"
   ]
  },
  {
   "cell_type": "code",
   "execution_count": 20,
   "metadata": {
    "execution": {
     "iopub.execute_input": "2022-08-30T15:31:21.217716Z",
     "iopub.status.busy": "2022-08-30T15:31:21.217608Z",
     "iopub.status.idle": "2022-08-30T15:31:21.235801Z",
     "shell.execute_reply": "2022-08-30T15:31:21.235134Z",
     "shell.execute_reply.started": "2022-08-30T15:31:21.217703Z"
    },
    "tags": []
   },
   "outputs": [],
   "source": [
    "# cached data:\n",
    "# wrapper.embeddings_training\n",
    "# wrapper.embeddings_testing\n",
    "# wrapper.projector\n",
    "# wrapper.projections_training\n",
    "# wrapper.projections_testing\n",
    "# wrapper.salience_maps\n",
    "# wrapper.clusters\n",
    "# wrapper.cluster_profiles\n",
    "# wrapper.cluster_words_freqs\n",
    "# wrapper.cluster_class_word_sets"
   ]
  }
 ],
 "metadata": {
  "kernelspec": {
   "display_name": "Python 3 (ipykernel)",
   "language": "python",
   "name": "python3"
  },
  "language_info": {
   "codemirror_mode": {
    "name": "ipython",
    "version": 3
   },
   "file_extension": ".py",
   "mimetype": "text/x-python",
   "name": "python",
   "nbconvert_exporter": "python",
   "pygments_lexer": "ipython3",
   "version": "3.9.13"
  }
 },
 "nbformat": 4,
 "nbformat_minor": 4
}
